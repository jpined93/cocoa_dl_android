{
  "cells": [
    {
      "cell_type": "markdown",
      "metadata": {
        "id": "8MkHaBiIs69W"
      },
      "source": [
        "**Importar Librerias**"
      ]
    },
    {
      "cell_type": "code",
      "source": [
        "!pip install -I pillow==7.2.0\n",
        "#!pip install rembg"
      ],
      "metadata": {
        "colab": {
          "base_uri": "https://localhost:8080/"
        },
        "id": "ecRhlsd2OXtH",
        "outputId": "c4cdbbb2-7879-4343-ddc2-70bc3bba1878"
      },
      "execution_count": null,
      "outputs": [
        {
          "output_type": "stream",
          "name": "stdout",
          "text": [
            "Looking in indexes: https://pypi.org/simple, https://us-python.pkg.dev/colab-wheels/public/simple/\n",
            "Collecting pillow==7.2.0\n",
            "  Using cached Pillow-7.2.0-cp38-cp38-manylinux1_x86_64.whl (2.2 MB)\n",
            "Installing collected packages: pillow\n",
            "\u001b[31mERROR: pip's dependency resolver does not currently take into account all the packages that are installed. This behaviour is the source of the following dependency conflicts.\n",
            "rembg 2.0.30 requires pillow~=9.3.0, but you have pillow 7.2.0 which is incompatible.\u001b[0m\u001b[31m\n",
            "\u001b[0mSuccessfully installed pillow-9.3.0\n"
          ]
        }
      ]
    },
    {
      "cell_type": "code",
      "execution_count": null,
      "metadata": {
        "colab": {
          "base_uri": "https://localhost:8080/"
        },
        "id": "x5tRHLP2XlaU",
        "outputId": "11b9e72d-51e5-4852-920e-5c670aee6f09"
      },
      "outputs": [
        {
          "output_type": "stream",
          "name": "stdout",
          "text": [
            "Drive already mounted at /content/drive; to attempt to forcibly remount, call drive.mount(\"/content/drive\", force_remount=True).\n"
          ]
        }
      ],
      "source": [
        "from google.colab import drive\n",
        "drive.mount('/content/drive')"
      ]
    },
    {
      "cell_type": "markdown",
      "metadata": {
        "id": "ROb31pk-uJli"
      },
      "source": []
    },
    {
      "cell_type": "code",
      "execution_count": null,
      "metadata": {
        "id": "hPV1KqB_mjjW"
      },
      "outputs": [],
      "source": [
        "# for displaying images\n",
        "import PIL\n",
        "from rembg  import remove\n",
        "import os\n",
        "import keras.utils as image\n",
        "from PIL import Image"
      ]
    },
    {
      "cell_type": "code",
      "execution_count": null,
      "metadata": {
        "id": "O28UIrQtlvvr"
      },
      "outputs": [],
      "source": [
        "labels = os.listdir('drive/MyDrive/Tesis/Enfermedades Cacao/train')\n",
        "labels"
      ]
    },
    {
      "cell_type": "code",
      "source": [
        "path='drive/MyDrive/Tesis/Fito2.jpg'\n",
        "from pathlib import Path\n",
        "import PIL\n",
        "import PIL.Image as PILI"
      ],
      "metadata": {
        "id": "jDd28Uh8f2lf"
      },
      "execution_count": null,
      "outputs": []
    },
    {
      "cell_type": "code",
      "source": [
        "for i,cat in enumerate(labels):\n",
        "  image_categories1 = os.listdir('drive/MyDrive/Tesis/Enfermedades Cacao/train'+'/'+labels[i])\n",
        "  for j,ima in enumerate(image_categories1):\n",
        "    Foto_temp=PILI.open('drive/MyDrive/Tesis/Enfermedades Cacao/train/'+labels[i]+'/'+image_categories1[j])\n",
        "    Foto_temp1=remove(Foto_temp)\n",
        "    Foto_temp1.save('drive/MyDrive/Tesis/Enfermedades Cacao1/train/'+labels[i]+'/'+str(j)+'.png')"
      ],
      "metadata": {
        "id": "VJrjLZUkNUYa"
      },
      "execution_count": null,
      "outputs": []
    },
    {
      "cell_type": "code",
      "source": [
        "labels = os.listdir('drive/MyDrive/Tesis/Enfermedades Cacao/test')\n",
        "for i,cat in enumerate(labels):\n",
        "  image_categories1 = os.listdir('drive/MyDrive/Tesis/Enfermedades Cacao/test'+'/'+labels[i])\n",
        "  for j,ima in enumerate(image_categories1):\n",
        "    Foto_temp=PILI.open('drive/MyDrive/Tesis/Enfermedades Cacao/test/'+labels[i]+'/'+image_categories1[j])\n",
        "    Foto_temp1=remove(Foto_temp)\n",
        "    Foto_temp1.save('drive/MyDrive/Tesis/Enfermedades Cacao1/test/'+labels[i]+'/'+str(j)+'.png')"
      ],
      "metadata": {
        "id": "LlBOFBgCs-HB"
      },
      "execution_count": null,
      "outputs": []
    },
    {
      "cell_type": "code",
      "source": [
        "labels = os.listdir('drive/MyDrive/Tesis/Enfermedades Cacao1/test')\n",
        "for i,cat in enumerate(labels):\n",
        "  image_categories1 = os.listdir('drive/MyDrive/Tesis/Enfermedades Cacao1/test'+'/'+labels[i])\n",
        "  for j,ima in enumerate(image_categories1):\n",
        "    Foto_temp=Image.open('drive/MyDrive/Tesis/Enfermedades Cacao/test1/'+labels[i]+'/'+image_categories1[j])\n",
        "    Foto_temp1.save('drive/MyDrive/Tesis/Enfermedades Cacao1/test/'+labels[i]+'/ima'+str(j)+'.jpg')"
      ],
      "metadata": {
        "id": "QGLsXXWmrXWj",
        "colab": {
          "base_uri": "https://localhost:8080/",
          "height": 339
        },
        "outputId": "6237a757-e82b-461d-e1ae-e22916023b94"
      },
      "execution_count": null,
      "outputs": [
        {
          "output_type": "error",
          "ename": "FileNotFoundError",
          "evalue": "ignored",
          "traceback": [
            "\u001b[0;31m---------------------------------------------------------------------------\u001b[0m",
            "\u001b[0;31mFileNotFoundError\u001b[0m                         Traceback (most recent call last)",
            "\u001b[0;32m<ipython-input-26-2dedc79235fa>\u001b[0m in \u001b[0;36m<module>\u001b[0;34m\u001b[0m\n\u001b[1;32m      3\u001b[0m   \u001b[0mimage_categories1\u001b[0m \u001b[0;34m=\u001b[0m \u001b[0mos\u001b[0m\u001b[0;34m.\u001b[0m\u001b[0mlistdir\u001b[0m\u001b[0;34m(\u001b[0m\u001b[0;34m'drive/MyDrive/Tesis/Enfermedades Cacao1/test'\u001b[0m\u001b[0;34m+\u001b[0m\u001b[0;34m'/'\u001b[0m\u001b[0;34m+\u001b[0m\u001b[0mlabels\u001b[0m\u001b[0;34m[\u001b[0m\u001b[0mi\u001b[0m\u001b[0;34m]\u001b[0m\u001b[0;34m)\u001b[0m\u001b[0;34m\u001b[0m\u001b[0;34m\u001b[0m\u001b[0m\n\u001b[1;32m      4\u001b[0m   \u001b[0;32mfor\u001b[0m \u001b[0mj\u001b[0m\u001b[0;34m,\u001b[0m\u001b[0mima\u001b[0m \u001b[0;32min\u001b[0m \u001b[0menumerate\u001b[0m\u001b[0;34m(\u001b[0m\u001b[0mimage_categories1\u001b[0m\u001b[0;34m)\u001b[0m\u001b[0;34m:\u001b[0m\u001b[0;34m\u001b[0m\u001b[0;34m\u001b[0m\u001b[0m\n\u001b[0;32m----> 5\u001b[0;31m     \u001b[0mFoto_temp\u001b[0m\u001b[0;34m=\u001b[0m\u001b[0mImage\u001b[0m\u001b[0;34m.\u001b[0m\u001b[0mopen\u001b[0m\u001b[0;34m(\u001b[0m\u001b[0;34m'drive/MyDrive/Tesis/Enfermedades Cacao/test1/'\u001b[0m\u001b[0;34m+\u001b[0m\u001b[0mlabels\u001b[0m\u001b[0;34m[\u001b[0m\u001b[0mi\u001b[0m\u001b[0;34m]\u001b[0m\u001b[0;34m+\u001b[0m\u001b[0;34m'/'\u001b[0m\u001b[0;34m+\u001b[0m\u001b[0;34m'1.png'\u001b[0m\u001b[0;34m)\u001b[0m\u001b[0;34m\u001b[0m\u001b[0;34m\u001b[0m\u001b[0m\n\u001b[0m\u001b[1;32m      6\u001b[0m     \u001b[0mFoto_temp1\u001b[0m\u001b[0;34m.\u001b[0m\u001b[0msave\u001b[0m\u001b[0;34m(\u001b[0m\u001b[0;34m'drive/MyDrive/Tesis/Enfermedades Cacao1/test/'\u001b[0m\u001b[0;34m+\u001b[0m\u001b[0mlabels\u001b[0m\u001b[0;34m[\u001b[0m\u001b[0mi\u001b[0m\u001b[0;34m]\u001b[0m\u001b[0;34m+\u001b[0m\u001b[0;34m'/ima'\u001b[0m\u001b[0;34m+\u001b[0m\u001b[0mstr\u001b[0m\u001b[0;34m(\u001b[0m\u001b[0mj\u001b[0m\u001b[0;34m)\u001b[0m\u001b[0;34m+\u001b[0m\u001b[0;34m'.jpg'\u001b[0m\u001b[0;34m)\u001b[0m\u001b[0;34m\u001b[0m\u001b[0;34m\u001b[0m\u001b[0m\n",
            "\u001b[0;32m/usr/local/lib/python3.8/dist-packages/PIL/Image.py\u001b[0m in \u001b[0;36mopen\u001b[0;34m(fp, mode)\u001b[0m\n\u001b[1;32m   2876\u001b[0m \u001b[0;34m\u001b[0m\u001b[0m\n\u001b[1;32m   2877\u001b[0m     \u001b[0;32mif\u001b[0m \u001b[0mfilename\u001b[0m\u001b[0;34m:\u001b[0m\u001b[0;34m\u001b[0m\u001b[0;34m\u001b[0m\u001b[0m\n\u001b[0;32m-> 2878\u001b[0;31m         \u001b[0mfp\u001b[0m \u001b[0;34m=\u001b[0m \u001b[0mbuiltins\u001b[0m\u001b[0;34m.\u001b[0m\u001b[0mopen\u001b[0m\u001b[0;34m(\u001b[0m\u001b[0mfilename\u001b[0m\u001b[0;34m,\u001b[0m \u001b[0;34m\"rb\"\u001b[0m\u001b[0;34m)\u001b[0m\u001b[0;34m\u001b[0m\u001b[0;34m\u001b[0m\u001b[0m\n\u001b[0m\u001b[1;32m   2879\u001b[0m         \u001b[0mexclusive_fp\u001b[0m \u001b[0;34m=\u001b[0m \u001b[0;32mTrue\u001b[0m\u001b[0;34m\u001b[0m\u001b[0;34m\u001b[0m\u001b[0m\n\u001b[1;32m   2880\u001b[0m \u001b[0;34m\u001b[0m\u001b[0m\n",
            "\u001b[0;31mFileNotFoundError\u001b[0m: [Errno 2] No such file or directory: 'drive/MyDrive/Tesis/Enfermedades Cacao/test1/Monoliasis_EF/1.png'"
          ]
        }
      ]
    }
  ],
  "metadata": {
    "colab": {
      "provenance": []
    },
    "kernelspec": {
      "display_name": "Python 3",
      "name": "python3"
    },
    "language_info": {
      "name": "python"
    },
    "gpuClass": "standard"
  },
  "nbformat": 4,
  "nbformat_minor": 0
}